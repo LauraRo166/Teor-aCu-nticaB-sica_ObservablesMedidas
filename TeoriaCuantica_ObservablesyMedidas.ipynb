{
 "cells": [
  {
   "cell_type": "markdown",
   "id": "ad21163d-9d4e-4f93-abf4-edb0d512c540",
   "metadata": {},
   "source": [
    "# Teoría cuántica básica, Observables y Medidas\n",
    "## Simule el primer sistema cuántico descrito en la sección 4.1.\r\n",
    "\r\n",
    "El sistema consiste en una partícula confinada a un conjunto discreto de posiciones en una línea. El simulador debe permitir especificar el número de posiciones y un vector ket de estado asignando las amplitudes.\r\n",
    "\r\n",
    "1. El sistema debe calcular la probabilidad de encontrarlo en una posición en particular.\r\n",
    "\r\n",
    "2. El sistema si se le da otro vector Ket debe buscar la probabilidad de transitar del primer vector al segundo."
   ]
  },
  {
   "cell_type": "code",
   "execution_count": 80,
   "id": "27003012-5a45-4098-9811-11f9ecba6b7c",
   "metadata": {},
   "outputs": [
    {
     "name": "stdin",
     "output_type": "stream",
     "text": [
      "Número de posiciones:  3\n"
     ]
    },
    {
     "name": "stdout",
     "output_type": "stream",
     "text": [
      "Ingrese las amplitudes complejas para las 3 posiciones (Ejemplo de entrada: 1+0j).\n"
     ]
    },
    {
     "name": "stdin",
     "output_type": "stream",
     "text": [
      "Amplitud para la posición 0:  1+0j\n",
      "Amplitud para la posición 1:  0+0j\n",
      "Amplitud para la posición 2:  1+0j\n",
      "Posición para calcular la probabilidad (0 a 2):  2\n"
     ]
    },
    {
     "name": "stdout",
     "output_type": "stream",
     "text": [
      "Probabilidad de encontrar la partícula en la posición 2: 1.00 \n",
      "\n"
     ]
    },
    {
     "name": "stdin",
     "output_type": "stream",
     "text": [
      "¿Calcular la probabilidad de transición a otro estado? (s/n):  s\n"
     ]
    },
    {
     "name": "stdout",
     "output_type": "stream",
     "text": [
      "Ingrese las amplitudes complejas para el nuevo estado de 3 posiciones (Ejemplo de entrada: 1+0j).\n"
     ]
    },
    {
     "name": "stdin",
     "output_type": "stream",
     "text": [
      "Amplitud para la posición 0:  1+0j\n",
      "Amplitud para la posición 1:  0+1j\n",
      "Amplitud para la posición 2:  0+0j\n"
     ]
    },
    {
     "name": "stdout",
     "output_type": "stream",
     "text": [
      "Probabilidad de transición al nuevo estado: 1.00\n"
     ]
    }
   ],
   "source": [
    "import numpy as np\n",
    "\n",
    "class SistemaCuantico:\n",
    "    def __init__(self, numPosiciones):\n",
    "        self.numPosiciones = numPosiciones\n",
    "        self.estado = np.zeros(numPosiciones, dtype=complex)\n",
    "\n",
    "    def asignarEstado(self, amplitudes): \n",
    "        if len(amplitudes) != self.numPosiciones:\n",
    "            print(\"La longitud del vector de estado debe coincidir con el número de posiciones.\")\n",
    "        else:\n",
    "            self.estado = np.array(amplitudes, dtype=complex)\n",
    "    \n",
    "    def probabilidad(self, posicion):\n",
    "        if posicion < 0 or posicion >= self.numPosiciones:\n",
    "            print(\"La posición está fuera de rango.\")\n",
    "            return None\n",
    "        else:\n",
    "            amplitud = self.estado[posicion]\n",
    "            return np.abs(amplitud)**2\n",
    "\n",
    "    def probabilidadTransicion(self, nuevoEstado):\n",
    "        if len(nuevoEstado) != self.numPosiciones:\n",
    "            print(\"La longitud del nuevo vector de estado debe coincidir con el número de posiciones.\")\n",
    "            return None\n",
    "        else:\n",
    "            superposicion = np.dot(np.conjugate(self.estado), nuevoEstado)\n",
    "            return np.abs(superposicion)**2\n",
    "\n",
    "def datos():\n",
    "    numPosiciones = int(input(\"Número de posiciones: \"))\n",
    "    amplitudes = []\n",
    "    print(f\"Ingrese las amplitudes complejas para las {numPosiciones} posiciones (Ejemplo de entrada: 1+0j).\")\n",
    "    for i in range(numPosiciones):\n",
    "        amplitud = complex(input(f\"Amplitud para la posición {i}: \"))\n",
    "        amplitudes.append(amplitud)\n",
    "    return numPosiciones, amplitudes\n",
    "\n",
    "def nuevoEstado(numPosiciones):\n",
    "    nuevoEstado = []\n",
    "    print(f\"Ingrese las amplitudes complejas para el nuevo estado de {numPosiciones} posiciones (Ejemplo de entrada: 1+0j).\")\n",
    "    for i in range(numPosiciones):\n",
    "        amplitud = complex(input(f\"Amplitud para la posición {i}: \"))\n",
    "        nuevoEstado.append(amplitud)\n",
    "    return nuevoEstado\n",
    "\n",
    "# Ejecutar el sistema\n",
    "numPosiciones, amplitudes = datos()\n",
    "sistema = SistemaCuantico(numPosiciones)\n",
    "sistema.asignarEstado(amplitudes)\n",
    "\n",
    "# Probabilidad de encontrar la partícula en una posición\n",
    "posicion = int(input(f\"Posición para calcular la probabilidad (0 a {numPosiciones - 1}): \"))\n",
    "probabilidad = sistema.probabilidad(posicion)\n",
    "if probabilidad is not None:\n",
    "    print(f\"Probabilidad de encontrar la partícula en la posición {posicion}: {probabilidad:.2f} \\n\")\n",
    "\n",
    "# Calcular la probabilidad de transición\n",
    "calcularTransicion = input(\"¿Calcular la probabilidad de transición a otro estado? (s/n): \").lower()\n",
    "if calcularTransicion == 's':\n",
    "    nuevoEstado = nuevoEstado(numPosiciones)\n",
    "    probabilidadTransicion = sistema.probabilidadTransicion(nuevoEstado)\n",
    "    if probabilidadTransicion is not None:\n",
    "        print(f\"Probabilidad de transición al nuevo estado: {probabilidadTransicion:.2f}\")\n"
   ]
  },
  {
   "cell_type": "markdown",
   "id": "3ff2399a-1093-4453-9182-750e8999d726",
   "metadata": {},
   "source": [
    "    "
   ]
  },
  {
   "cell_type": "markdown",
   "id": "25dd694b-3628-43c9-a3ee-a9a9e94ec7d1",
   "metadata": {},
   "source": [
    "## Complete los retos de programación del capítulo 4.\n",
    "\n",
    "**1.** Amplitud de transición. El sistema puede recibir dos vectores y calcular la probabilidad de transitar de el uno al otro después de hacer la observación"
   ]
  },
  {
   "cell_type": "code",
   "execution_count": 91,
   "id": "9c52be11-83f8-4f93-8776-16fc51e9142d",
   "metadata": {},
   "outputs": [
    {
     "name": "stdin",
     "output_type": "stream",
     "text": [
      "Elementos del primer vector (Ejemplo de entrada para [1+0j,0+0j,1+0j] → 1,0 0,0 1,0) 1,0 0,0 1,0\n",
      "Elementos del segundo vector (Ejemplo de entrada para [1+0j,0+0j,1+0j] → 1,0 0,0 1,0) 0,1 1,0 0,0\n"
     ]
    },
    {
     "name": "stdout",
     "output_type": "stream",
     "text": [
      "La probabilidad de transicion es:4.000000000000002\n"
     ]
    }
   ],
   "source": [
    "import numpy as np\n",
    "\n",
    "v1 = input(\"Elementos del primer vector (Ejemplo de entrada para [1+0j,0+0j,1+0j] → 1,0 0,0 1,0)\")\n",
    "elemV1 = v1.split() \n",
    "vector1 = np.array([complex(float(e.split(',')[0]), float(e.split(',')[1])) for e in elemV1])\n",
    "v2 = input(\"Elementos del segundo vector (Ejemplo de entrada para [1+0j,0+0j,1+0j] → 1,0 0,0 1,0)\")\n",
    "elemV2 = v2.split()\n",
    "vector2 = np.array([complex(float(e.split(',')[0]), float(e.split(',')[1])) for e in elemV2])\n",
    "\n",
    "#Comprobar si están normalizados\n",
    "normaV1 = np.linalg.norm(vector1)\n",
    "if(normaV1 != 1):\n",
    "    vector1 = normaV1 * vector1\n",
    "normaV2 = np.linalg.norm(vector2)\n",
    "if(normaV2 != 1):\n",
    "    vector2 = normaV2 * vector2\n",
    "    \n",
    "#Producto interno entre vector1 y vector2\n",
    "producto = np.vdot(vector1, vector2)\n",
    "probabilidad = abs(producto)**2\n",
    "print(\"La probabilidad de transicion es:\" + str(probabilidad))"
   ]
  },
  {
   "cell_type": "markdown",
   "id": "76bf55b6-91d2-420e-b15f-e6091f45d965",
   "metadata": {},
   "source": [
    "   "
   ]
  },
  {
   "cell_type": "markdown",
   "id": "78db49a5-be40-421b-a89d-41559f4a9d03",
   "metadata": {},
   "source": [
    "**2.** Ahora con una matriz que describa un observable y un vector ket, el sistema revisa que la matriz sea hermitiana, y si lo es, calcula la media y la varianza del observable en el estado dado."
   ]
  },
  {
   "cell_type": "code",
   "execution_count": 105,
   "id": "3f7a13e5-0a99-4f86-ad52-facc987b3908",
   "metadata": {},
   "outputs": [
    {
     "name": "stdin",
     "output_type": "stream",
     "text": [
      "Elementos del primer vector (Ejemplo de entrada para [1+0j,0+0j,1+0j] → 1,0 0,0 1,0): 1,0 0,0 1,0\n"
     ]
    },
    {
     "name": "stdout",
     "output_type": "stream",
     "text": [
      "Introduce los elementos de la matriz 3x3, fila por fila, siendo cada fila: [1+0j,0+0j,1+0j] → 1,0 0,0 1,0\n"
     ]
    },
    {
     "name": "stdin",
     "output_type": "stream",
     "text": [
      "Fila 1:  2,0 1,1 0,0\n",
      "Fila 2:  1,-1 3,0 1,0\n",
      "Fila 3:  0,0 1,0 4,0\n"
     ]
    },
    {
     "name": "stdout",
     "output_type": "stream",
     "text": [
      "La matriz es hermitiana.\n",
      "Media:(12.000000000000002+0j)\n",
      "Varianza:(328.00000000000017+0j)\n"
     ]
    }
   ],
   "source": [
    "import numpy as np\n",
    "\n",
    "v = input(\"Elementos del primer vector (Ejemplo de entrada para [1+0j,0+0j,1+0j] → 1,0 0,0 1,0):\")\n",
    "elemV = v.split() \n",
    "vector = np.array([complex(float(e.split(',')[0]), float(e.split(',')[1])) for e in elemV])\n",
    "\n",
    "print(f\"Introduce los elementos de la matriz {len(vector)}x{len(vector)}, fila por fila, siendo cada fila: [1+0j,0+0j,1+0j] → 1,0 0,0 1,0\")\n",
    "matriz = []\n",
    "for i in range(len(vector)):\n",
    "    fila = input(f\"Fila {i+1}: \").split()\n",
    "    fila_complex = [complex(float(e.split(',')[0]), float(e.split(',')[1])) for e in fila]\n",
    "    matriz.append(fila_complex)\n",
    "matriz = np.array(matriz)\n",
    "\n",
    "#Normalización el vector\n",
    "normaV1 = np.linalg.norm(vector)\n",
    "if(normaV1 != 1):\n",
    "    vector = normaV1 * vector\n",
    "    \n",
    "#Matriz hermitiana\n",
    "esHermitiana = np.allclose(matriz, matriz.conj().T)\n",
    "if(esHermitiana):\n",
    "    print(\"La matriz es hermitiana.\")\n",
    "    \n",
    "    media = np.dot(vector,np.dot(matriz,vector))\n",
    "    print(\"Media:\"+ str(media))\n",
    "    \n",
    "    varianza = matriz - (media*np.identity(len(vector)))\n",
    "    varianza = varianza * varianza\n",
    "    total = np.dot(vector,np.dot(varianza,vector))\n",
    "    print(\"Varianza:\" + str(total))\n",
    "else:\n",
    "    print(\"La matriz no es hermitiana.\")"
   ]
  },
  {
   "cell_type": "markdown",
   "id": "61ba6998-a7ce-479a-8403-94b33157b7da",
   "metadata": {},
   "source": [
    "   "
   ]
  },
  {
   "cell_type": "markdown",
   "id": "0b4f0461-ee07-4d6a-a0f3-02a2542c12c7",
   "metadata": {},
   "source": [
    "**3.** El sistema calcula los valores propios del observable y la probabilidad de que el sistema transite a alguno de los vectores propios después de la observación."
   ]
  },
  {
   "cell_type": "code",
   "execution_count": 122,
   "id": "bebf5260-4d6e-485a-ab0e-66b232d35f43",
   "metadata": {},
   "outputs": [
    {
     "name": "stdin",
     "output_type": "stream",
     "text": [
      "Elementos del primer vector (Ejemplo de entrada para [1+0j,0+0j,1+0j] → 1,0 0,0 1,0): 1,0 0,0 1,0\n"
     ]
    },
    {
     "name": "stdout",
     "output_type": "stream",
     "text": [
      "Introduce los elementos de la matriz 3x3, fila por fila, siendo cada fila: [1+0j,0+0j,1+0j] → 1,0 0,0 1,0\n"
     ]
    },
    {
     "name": "stdin",
     "output_type": "stream",
     "text": [
      "Fila 1:  2,0 1,1 0,0\n",
      "Fila 2:  1,-1 3,0 1,0\n",
      "Fila 3:  0,0 1,0 4,0\n"
     ]
    },
    {
     "name": "stdout",
     "output_type": "stream",
     "text": [
      "La matriz es hermitiana.\n",
      "Valores propios del observable:[0.88509246+9.72081287e-17j 3.25410169-8.00313152e-17j\n",
      " 4.86080585-1.71768135e-17j]\n",
      "Vectores propios del observable:[[ 0.77024208+0.00000000e+00j -0.39529571-3.95295709e-01j\n",
      "   0.21703657+2.17036571e-01j]\n",
      " [-0.42937435+4.29374351e-01j -0.49574102-1.61558193e-16j\n",
      "   0.62089949+4.94070013e-17j]\n",
      " [ 0.13784497-1.37844975e-01j  0.66462279+0.00000000e+00j\n",
      "   0.72130027+0.00000000e+00j]]\n",
      "La probabilidad del vector[ 0.77024208+0.j         -0.39529571-0.39529571j  0.21703657+0.21703657j]es:(0.9276142579242448+0.4285511445747042j)\n",
      "La probabilidad del vector[-0.42937435+4.29374351e-01j -0.49574102-1.61558193e-16j\n",
      "  0.62089949+4.94070013e-17j]es:(-0.1476804537698397+0.1644719659777065j)\n",
      "La probabilidad del vector[0.13784497-0.13784497j 0.66462279+0.j         0.72130027+0.j        ]es:(0.7191293091951351-0.23685770805346118j)\n",
      "La suma de probabilidades es:(1.49906311334954+0.35616540249894957j)\n"
     ]
    }
   ],
   "source": [
    "import numpy as np\n",
    "\n",
    "v = input(\"Elementos del primer vector (Ejemplo de entrada para [1+0j,0+0j,1+0j] → 1,0 0,0 1,0):\")\n",
    "elementosV = v.split() \n",
    "vector = np.array([complex(float(e.split(',')[0]), float(e.split(',')[1])) for e in elementosV])\n",
    "\n",
    "print(f\"Introduce los elementos de la matriz {len(vector)}x{len(vector)}, fila por fila, siendo cada fila: [1+0j,0+0j,1+0j] → 1,0 0,0 1,0\")\n",
    "matriz = []\n",
    "for i in range(len(vector)):\n",
    "    fila = input(f\"Fila {i+1}: \").split()\n",
    "    fila_complex = [complex(float(e.split(',')[0]), float(e.split(',')[1])) for e in fila]\n",
    "    matriz.append(fila_complex)\n",
    "matriz = np.array(matriz)\n",
    "\n",
    "#Comprobar si es hermitiana\n",
    "esHermitiana = np.allclose(matriz, matriz.conj().T)\n",
    "if(esHermitiana):\n",
    "    print(\"La matriz es hermitiana.\")\n",
    "    #Valores y vectores propios\n",
    "    eigenvalues, eigenvectors = np.linalg.eig(matriz)\n",
    "    print(\"Valores propios del observable:\" + str(eigenvalues))\n",
    "    print(\"Vectores propios del observable:\" + str(eigenvectors))\n",
    "    \n",
    "    #Cálculo de probabilidad \n",
    "    probabilidadTotal = 0\n",
    "    for i in range(len(eigenvectors)):\n",
    "        norma = np.linalg.norm(eigenvectors[i])\n",
    "        if(normaV1 != 1):\n",
    "            eigenvectors[i] = norma * eigenvectors[i]\n",
    "            probabilidad = pow(np.dot(eigenvectors[i],vector),2)\n",
    "            print(\"La probabilidad del vector\"+str(eigenvectors[i])+\"es:\"+str(probabilidad))\n",
    "            probabilidadTotal += probabilidad\n",
    "    print(\"La suma de probabilidades es:\"+str(probabilidadTotal))\n",
    "else:\n",
    "    print(\"La matriz no es hermitiana.\")"
   ]
  },
  {
   "cell_type": "markdown",
   "id": "1bf86b47-da21-4207-8515-e77c8a8b7205",
   "metadata": {},
   "source": [
    "  "
   ]
  },
  {
   "cell_type": "markdown",
   "id": "4cee198b-0fc6-4a32-894c-3100f085f4f6",
   "metadata": {},
   "source": [
    "\n",
    "\n",
    "\n",
    "**4.** Se considera la dinámica del sistema. Ahora con una serie de matrices Un el sistema calcula el estado final a partir de un estado inicial."
   ]
  },
  {
   "cell_type": "code",
   "execution_count": 126,
   "id": "cd546840-a67d-4ebe-b1d6-8994405c722a",
   "metadata": {},
   "outputs": [
    {
     "name": "stdin",
     "output_type": "stream",
     "text": [
      "Elementos del primer vector (Ejemplo de entrada para [1+0j,0+0j,1+0j] → 1,0 0,0 1,0): 1,0 0,0 0,1\n",
      "Cantidad de matrices unitarias: 2\n"
     ]
    },
    {
     "name": "stdout",
     "output_type": "stream",
     "text": [
      "Introduce los elementos de la matriz 3x3, fila por fila, siendo cada fila: [1+0j,0+0j,1+0j] → 1,0 0,0 1,0\n"
     ]
    },
    {
     "name": "stdin",
     "output_type": "stream",
     "text": [
      "Fila 1:  1,0 0,0 0,0\n",
      "Fila 2:  0,0 0,0 1,0\n",
      "Fila 3:  0,0 1,0 0,0\n"
     ]
    },
    {
     "name": "stdout",
     "output_type": "stream",
     "text": [
      "Introduce los elementos de la matriz 3x3, fila por fila, siendo cada fila: [1+0j,0+0j,1+0j] → 1,0 0,0 1,0\n"
     ]
    },
    {
     "name": "stdin",
     "output_type": "stream",
     "text": [
      "Fila 1:  0,0 1,0 0,0\n",
      "Fila 2:  1,0 0,0 0,0\n",
      "Fila 3:  0,0 0,0 1,0\n"
     ]
    },
    {
     "name": "stdout",
     "output_type": "stream",
     "text": [
      "El estado final es:\n",
      "[0.+1.j 1.+0.j 0.+0.j]\n"
     ]
    }
   ],
   "source": [
    "import numpy as np\n",
    "\n",
    "v = input(\"Elementos del primer vector (Ejemplo de entrada para [1+0j,0+0j,1+0j] → 1,0 0,0 1,0):\")\n",
    "elementosV = v.split() \n",
    "vector = np.array([complex(float(e.split(',')[0]), float(e.split(',')[1])) for e in elementosV])\n",
    "\n",
    "n = int(input(\"Cantidad de matrices unitarias:\"))\n",
    "matricesUnitarias = []\n",
    "\n",
    "for i in range(n):\n",
    "    print(f\"Introduce los elementos de la matriz {len(vector)}x{len(vector)}, fila por fila, siendo cada fila: [1+0j,0+0j,1+0j] → 1,0 0,0 1,0\")\n",
    "    matriz = []\n",
    "    for j in range(len(vector)):\n",
    "        fila = input(f\"Fila {j+1}: \").split()\n",
    "        fila_complex = [complex(float(e.split(',')[0]), float(e.split(',')[1])) for e in fila]\n",
    "        matriz.append(fila_complex)\n",
    "    matriz = np.array(matriz)\n",
    "    matricesUnitarias.append(matriz)\n",
    "    \n",
    "estadoFinal = vector\n",
    "\n",
    "#Cálculo estado final\n",
    "for U in matricesUnitarias:\n",
    "    estadoFinal = np.dot(U,estadoFinal)\n",
    "print(\"El estado final es:\")\n",
    "print(estadoFinal)"
   ]
  },
  {
   "cell_type": "markdown",
   "id": "4c7cd3b6-d9ea-47a6-93e3-af60b76ee9d8",
   "metadata": {},
   "source": [
    "   "
   ]
  },
  {
   "cell_type": "markdown",
   "id": "ac54f41f-5d90-436e-b661-0047c7447cdd",
   "metadata": {},
   "source": [
    "## Realice los siguientes problemas e incluyalos como ejemplos\n",
    "Modele en su librería los problemas\n",
    "\n",
    "\n",
    "### 4.3.1"
   ]
  },
  {
   "cell_type": "code",
   "execution_count": 37,
   "id": "779e71e3-3b64-4757-9fc3-854a9f188785",
   "metadata": {},
   "outputs": [
    {
     "name": "stdout",
     "output_type": "stream",
     "text": [
      "Probabilidad de colapso al estado |←>: 0.50\n",
      "Probabilidad de colapso al estado |→>: 0.50\n"
     ]
    }
   ],
   "source": [
    "import numpy as np\n",
    "#4.3.1\n",
    "up = np.array([[1], [0]])  # |up>\n",
    "izq = (1/np.sqrt(2)) * np.array([[1], [1]])  # |izquierda>\n",
    "der = (1/np.sqrt(2)) * np.array([[1], [-1]])  # |derecha>\n",
    "\n",
    "# Probabilidad de colapso\n",
    "def probabilidadColapso(estadoFin, estadoIni):\n",
    "    superposicion = np.vdot(estadoFin, estadoIni)\n",
    "    return np.abs(superposicion)**2\n",
    "\n",
    "# Calculo probabilidades\n",
    "PIzq= probabilidadColapso(izq, up)\n",
    "PDer = probabilidadColapso(der, up)\n",
    "\n",
    "print(f\"Probabilidad de colapso al estado |←>: {PIzq:.2f}\")\n",
    "print(f\"Probabilidad de colapso al estado |→>: {PDer:.2f}\")\n"
   ]
  },
  {
   "cell_type": "markdown",
   "id": "ba14ed2a-75e5-486e-b8a2-8f5d3ddda703",
   "metadata": {},
   "source": [
    "    "
   ]
  },
  {
   "cell_type": "markdown",
   "id": "6bcab1a3-5e6c-4831-ae30-885bbb162488",
   "metadata": {},
   "source": [
    "### 4.3.2"
   ]
  },
  {
   "cell_type": "code",
   "execution_count": 73,
   "id": "dbf5c505-0843-4ee1-ac24-43f15fe36d19",
   "metadata": {},
   "outputs": [
    {
     "data": {
      "image/png": "[encoded data removed]",
      "text/plain": [
       "<Figure size 640x480 with 1 Axes>"
      ]
     },
     "metadata": {},
     "output_type": "display_data"
    }
   ],
   "source": [
    "import numpy as np\n",
    "import matplotlib.pyplot as plt\n",
    "#4.3.2\n",
    "up = np.array([[1], [0]])  # |up>\n",
    "izq = (1/np.sqrt(2)) * np.array([[1], [1]])  # |izquierda>\n",
    "der = (1/np.sqrt(2)) * np.array([[1], [-1]])  # |derecha>\n",
    "\n",
    "# Valores propios correspondientes a los estados |right> y |left>\n",
    "eigenvalues = [0.5, -0.5]  # hbar/2 y -hbar/2\n",
    "probabilities = [probabilidadColapso(der, up), probabilidadColapso(izq, up)]  # Probabilidad de colapso a |right> y |left>\n",
    "\n",
    "plt.bar(eigenvalues, probabilities, color=['cyan', 'purple'], width=0.1)\n",
    "plt.xlabel('Valores propios (h/2)')\n",
    "plt.ylabel('Probabilidad')\n",
    "plt.title('Distribución de probabilidad de los valores propios')\n",
    "plt.xticks(eigenvalues, [r'$\\frac{h}{2}$', r'$-\\frac{h}{2}$'])\n",
    "plt.show()\n"
   ]
  },
  {
   "cell_type": "markdown",
   "id": "1a6a36f1-a33b-4deb-8390-adddae4760f3",
   "metadata": {},
   "source": [
    "    "
   ]
  },
  {
   "cell_type": "markdown",
   "id": "882a8ba2-4cac-48c7-86bd-ff083e676073",
   "metadata": {},
   "source": [
    "### 4.4.1"
   ]
  },
  {
   "cell_type": "code",
   "execution_count": 63,
   "id": "22cbab0b-fcd4-436c-b05d-a506297dba3d",
   "metadata": {},
   "outputs": [
    {
     "name": "stdout",
     "output_type": "stream",
     "text": [
      "U1 es unitaria: True\n",
      "U2 es unitaria: True\n",
      "El producto U1*U2 es unitario: True\n"
     ]
    }
   ],
   "source": [
    "import numpy as np\n",
    "#4.4.1\n",
    "# Matrices u1 y u2\n",
    "u1 = np.array([[0, 1],\n",
    "               [1, 0]])\n",
    "u2 = np.array([[np.sqrt(2)/2, np.sqrt(2)/2],\n",
    "               [np.sqrt(2)/2, -np.sqrt(2)/2]])\n",
    "\n",
    "def esUnitaria(U):\n",
    "    identidad = np.eye(U.shape[0])\n",
    "    daga = np.conjugate(U.T)\n",
    "    return np.allclose(U @ daga, identidad)\n",
    "\n",
    "# Comprobar si U1 y U2 son matrices unitarias\n",
    "u1Unitaria = esUnitaria(u1)\n",
    "u2Unitaria = esUnitaria(u2)\n",
    "# Comprobar si el producto entre u1 y u2 es unitario\n",
    "u1u2Producto = np.dot(u1, u2)\n",
    "productoUnitario = esUnitaria(u1u2Producto)\n",
    "\n",
    "print(\"U1 es unitaria:\", u1Unitaria)\n",
    "print(\"U2 es unitaria:\", u2Unitaria)\n",
    "print(\"El producto U1*U2 es unitario:\", productoUnitario)"
   ]
  },
  {
   "cell_type": "markdown",
   "id": "d4d9ba42-328d-44a1-8285-bfcc5743d46c",
   "metadata": {},
   "source": [
    "    "
   ]
  },
  {
   "cell_type": "markdown",
   "id": "761d0b66-b188-4a5f-aa42-5039e9740f56",
   "metadata": {},
   "source": [
    "### 4.4.2"
   ]
  },
  {
   "cell_type": "code",
   "execution_count": 71,
   "id": "7c1b77d7-7c8d-44d0-99e9-83e0c06df546",
   "metadata": {},
   "outputs": [
    {
     "name": "stdout",
     "output_type": "stream",
     "text": [
      "Estado después de 3 clicks: [ 0.        +0.j         -0.70710678+0.70710678j  0.        +0.j\n",
      "  0.        +0.j        ]\n",
      "\n",
      "Probabilidad de encontrar la partícula en el punto 3: 0.0\n"
     ]
    }
   ],
   "source": [
    "#4.4.2\n",
    "estadoIni = np.array([1, 0, 0, 0], dtype=complex)\n",
    "U = np.array([[0, 1/np.sqrt(2), 1/np.sqrt(2), 0],\n",
    "              [1j/np.sqrt(2), 0, 0, 1/np.sqrt(2)],\n",
    "              [1/np.sqrt(2), 0, 0, 1j/np.sqrt(2)],\n",
    "              [0, 1/np.sqrt(2), -1/np.sqrt(2), 0]], dtype=complex)\n",
    "\n",
    "# Tres clicks\n",
    "Click1 = np.dot(U, estadoIni)\n",
    "Click2= np.dot(U, Click1)\n",
    "Click3 = np.dot(U, Click2)\n",
    "\n",
    "ProbabilidadPunto3 = np.abs(Click3[2])**2\n",
    "\n",
    "print(f\"Estado después de 3 clicks: {Click3:}\\n\")\n",
    "print(f\"Probabilidad de encontrar la partícula en el punto 3: {ProbabilidadPunto3}\")"
   ]
  },
  {
   "cell_type": "markdown",
   "id": "cc3030e6-b67e-42ab-a667-99a19f2d5e28",
   "metadata": {},
   "source": [
    "   "
   ]
  },
  {
   "cell_type": "markdown",
   "id": "b858b16c-036a-4761-90a8-83aede839909",
   "metadata": {},
   "source": [
    "### Discusión 4.5.2\n",
    "\n",
    "Un sistema de dos partículas con espín se puede describir usando el espacio de Hilbert, donde el estado total es el producto tensorial de los estados de las dos partículas. Cada partícula tiene dos posibles estados de espín: up y down. El estado genérico para un sistema de dos partículas es una combinación lineal de los productos de sus estados de espín, donde los coeficientes son complejos y deben cumplir con la normalización. Para un sistema con n partículas, simplemente se expande este concepto. El estado total del sistema sería el producto tensorial de los estados de las n partículas. Si cada partícula tiene dos estados posibles (como en el caso del espín), el número de términos en la combinación lineal sería 2n.\n",
    "\n"
   ]
  },
  {
   "cell_type": "markdown",
   "id": "3e720ca8-3e60-48e9-8e16-2d1d5cef81dd",
   "metadata": {},
   "source": [
    "### Discusión 4.5.3\n",
    "Un estado es separable si se puede escribir como el producto tensorial de dos estados independientes. Si no es posible de descomponer el estado se considera entrelazado. Se observa que el estado dado es una suma de productos de estados, pero ambos términos incluyen un mismo estado, lo que da a enter que puede haber una relación más simple entre los estados.\n",
    "\n",
    "Si se intenta escribir como un producto tensorial de un estado, resulta que el estado no es separable porque no es posible factorizarlo en la forma deseada. Lo que indicaria que el estado está entrelazado, pues no puede descomponerse."
   ]
  }
 ],
 "metadata": {
  "kernelspec": {
   "display_name": "Python 3 (ipykernel)",
   "language": "python",
   "name": "python3"
  },
  "language_info": {
   "codemirror_mode": {
    "name": "ipython",
    "version": 3
   },
   "file_extension": ".py",
   "mimetype": "text/x-python",
   "name": "python",
   "nbconvert_exporter": "python",
   "pygments_lexer": "ipython3",
   "version": "3.12.4"
  }
 },
 "nbformat": 4,
 "nbformat_minor": 5
}
